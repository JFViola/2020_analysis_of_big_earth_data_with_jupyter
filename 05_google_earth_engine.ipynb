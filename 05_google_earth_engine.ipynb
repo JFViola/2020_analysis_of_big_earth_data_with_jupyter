{
 "cells": [
  {
   "cell_type": "markdown",
   "metadata": {},
   "source": [
    "<img src='./img/opengeohub_logo.png' alt='OpenGeoHub Logo' align='right' width='15%'></img>"
   ]
  },
  {
   "cell_type": "markdown",
   "metadata": {},
   "source": [
    "<a href=\"./00_index.ipynb\"><< Index</a><br>\n",
    "<a href=\"./04_aws_open_data_registry.ipynb\"><< 04 - AWS - Open Data Registry</a><span style=\"float:right;\"><a href=\"./11_covid19_case_study_s5p_anomaly_map.ipynb\">11 - Covid-19 case study - Sentinel-5P anomaly map>></a></span>"
   ]
  },
  {
   "cell_type": "markdown",
   "metadata": {},
   "source": [
    "# Google Earth Engine"
   ]
  },
  {
   "cell_type": "markdown",
   "metadata": {},
   "source": [
    "### About"
   ]
  },
  {
   "cell_type": "markdown",
   "metadata": {},
   "source": [
    "<img src=\"./img/gee_logo_2.png\" align=\"right\" width=\"35%\"></img>\n",
    "[Google Earth Engine (GEE)](https://earthengine.google.com/) is a planetary-scale platform for Earth science data & analysis. \n",
    "\n",
    "There are several ways to work with the Google Earth Engine:\n",
    "* [Code Editor]( code.earthengine.google.com), a web-based IDE in Javascript\n",
    "* [Client libraries](https://github.com/google/earthengine-api) provide Javascript and Python wrapper functions for the Earth Engine API\n",
    "\n",
    "You have to [sign up](https://signup.earthengine.google.com/) for GEE."
   ]
  },
  {
   "cell_type": "markdown",
   "metadata": {},
   "source": [
    "### Data"
   ]
  },
  {
   "cell_type": "markdown",
   "metadata": {},
   "source": [
    "Earth Engine's data archive includes:\n",
    "* **Weather and Climate Data**\n",
    "    * A selection of ERA5 reanalysis\n",
    "      * [ECMWF/ERA5/DAILY](https://developers.google.com/earth-engine/datasets/catalog/ECMWF_ERA5_DAILY)\n",
    "      * [ECMWF/ERA5/MONTHLY](https://developers.google.com/earth-engine/datasets/catalog/ECMWF_ERA5_MONTHLY)\n",
    "    * TRMM precipitation\n",
    "* **Imagery**\n",
    "    * Landsat\n",
    "    * Sentinels, e.g\n",
    "      * [Sentinel-2](https://developers.google.com/earth-engine/datasets/catalog/COPERNICUS_S2_SR)\n",
    "      * [Sentinel-5P](https://developers.google.com/earth-engine/datasets/catalog/COPERNICUS_S5P_OFFL_L3_NO2)\n",
    "      * [Sentinel-3](https://developers.google.com/earth-engine/datasets/catalog/COPERNICUS_S3_OLCI)\n",
    "    * MODIS\n",
    "    \n",
    "... and many more. Have a look yourself at the [Earth Engine Data Catalog](https://developers.google.com/earth-engine/datasets/catalog/).\n",
    "\n",
    "In case you are interested in uploading your own data in Google Earth Engine, see here a [workflow](https://github.com/jwagemann/era5_in_gee) how to upload ERA5 data, using [manifest uploads](https://developers.google.com/earth-engine/image_manifest). "
   ]
  },
  {
   "cell_type": "markdown",
   "metadata": {},
   "source": [
    "### How to retrieve data?"
   ]
  },
  {
   "cell_type": "markdown",
   "metadata": {},
   "source": [
    "Required libraries:\n",
    "* [Earth Engine Python API](https://developers.google.com/earth-engine/python_install)\n",
    "* [geemap](https://geemap.readthedocs.io/en/latest/index.html)"
   ]
  },
  {
   "cell_type": "markdown",
   "metadata": {},
   "source": [
    "<hr>"
   ]
  },
  {
   "cell_type": "markdown",
   "metadata": {},
   "source": [
    "#### Load required libraries"
   ]
  },
  {
   "cell_type": "code",
   "execution_count": 3,
   "metadata": {},
   "outputs": [],
   "source": [
    "import ee\n",
    "import geemap"
   ]
  },
  {
   "cell_type": "markdown",
   "metadata": {},
   "source": [
    "#### First step of the Earth Engine Python API is to run the `ee.authenticate()` command"
   ]
  },
  {
   "cell_type": "markdown",
   "metadata": {},
   "source": [
    "The command will prompt you to open a given URL, which asks you to authenticate with Google Earth Engine with your email address you registered with Google Earth Engine. If the autentication was successful, the browser window provides you a code which you will be able to enter. \n",
    "This token is then saved and you are good to go to use the EarthEngine Python API."
   ]
  },
  {
   "cell_type": "code",
   "execution_count": 5,
   "metadata": {},
   "outputs": [
    {
     "data": {
      "text/html": [
       "<p>To authorize access needed by Earth Engine, open the following\n",
       "        URL in a web browser and follow the instructions:</p>\n",
       "        <p><a href=https://accounts.google.com/o/oauth2/auth?client_id=517222506229-vsmmajv00ul0bs7p89v5m89qs8eb9359.apps.googleusercontent.com&scope=https%3A%2F%2Fwww.googleapis.com%2Fauth%2Fearthengine+https%3A%2F%2Fwww.googleapis.com%2Fauth%2Fdevstorage.full_control&redirect_uri=urn%3Aietf%3Awg%3Aoauth%3A2.0%3Aoob&response_type=code&code_challenge=VE-lCHGms3Lik1fzH352QyZVizTkAIAYJ-h_hwd2tuI&code_challenge_method=S256>https://accounts.google.com/o/oauth2/auth?client_id=517222506229-vsmmajv00ul0bs7p89v5m89qs8eb9359.apps.googleusercontent.com&scope=https%3A%2F%2Fwww.googleapis.com%2Fauth%2Fearthengine+https%3A%2F%2Fwww.googleapis.com%2Fauth%2Fdevstorage.full_control&redirect_uri=urn%3Aietf%3Awg%3Aoauth%3A2.0%3Aoob&response_type=code&code_challenge=VE-lCHGms3Lik1fzH352QyZVizTkAIAYJ-h_hwd2tuI&code_challenge_method=S256</a></p>\n",
       "        <p>The authorization workflow will generate a code, which you\n",
       "        should paste in the box below</p>\n",
       "        "
      ],
      "text/plain": [
       "<IPython.core.display.HTML object>"
      ]
     },
     "metadata": {},
     "output_type": "display_data"
    },
    {
     "name": "stdout",
     "output_type": "stream",
     "text": [
      "Enter verification code: 4/3AGg_XO3C3gEqj_5yocp_gQUJ6qCmIPb5zy-KR1BI-D_vAX9jrCq1as\n",
      "\n",
      "Successfully saved authorization token.\n"
     ]
    }
   ],
   "source": [
    "ee.Authenticate()"
   ]
  },
  {
   "cell_type": "markdown",
   "metadata": {},
   "source": [
    "#### Initialize the EarthEngine Python API with the `ee.Initialize()` command"
   ]
  },
  {
   "cell_type": "code",
   "execution_count": 8,
   "metadata": {},
   "outputs": [],
   "source": [
    "# Initialize ee with access token\n",
    "ee.Initialize()"
   ]
  },
  {
   "cell_type": "markdown",
   "metadata": {},
   "source": [
    "#### Load an ERA5/MONTHLY image and get image information"
   ]
  },
  {
   "cell_type": "markdown",
   "metadata": {},
   "source": [
    "The `ee.Image` functions can be used to load a single image from a `ImageCollection` of the EarthEngine Data Catalog. With the `getInfo()` command, you can get a print-out of what your image contains. The print-out shows you that the Image contains nine different layers."
   ]
  },
  {
   "cell_type": "code",
   "execution_count": 13,
   "metadata": {
    "scrolled": true
   },
   "outputs": [
    {
     "data": {
      "text/plain": [
       "{'type': 'Image',\n",
       " 'bands': [{'id': 'mean_2m_air_temperature',\n",
       "   'data_type': {'type': 'PixelType', 'precision': 'float'},\n",
       "   'dimensions': [1440, 721],\n",
       "   'crs': 'EPSG:4326',\n",
       "   'crs_transform': [0.25, 0, -180, 0, -0.25, 90]},\n",
       "  {'id': 'minimum_2m_air_temperature',\n",
       "   'data_type': {'type': 'PixelType', 'precision': 'float'},\n",
       "   'dimensions': [1440, 721],\n",
       "   'crs': 'EPSG:4326',\n",
       "   'crs_transform': [0.25, 0, -180, 0, -0.25, 90]},\n",
       "  {'id': 'maximum_2m_air_temperature',\n",
       "   'data_type': {'type': 'PixelType', 'precision': 'float'},\n",
       "   'dimensions': [1440, 721],\n",
       "   'crs': 'EPSG:4326',\n",
       "   'crs_transform': [0.25, 0, -180, 0, -0.25, 90]},\n",
       "  {'id': 'dewpoint_2m_temperature',\n",
       "   'data_type': {'type': 'PixelType', 'precision': 'float'},\n",
       "   'dimensions': [1440, 721],\n",
       "   'crs': 'EPSG:4326',\n",
       "   'crs_transform': [0.25, 0, -180, 0, -0.25, 90]},\n",
       "  {'id': 'total_precipitation',\n",
       "   'data_type': {'type': 'PixelType', 'precision': 'float'},\n",
       "   'dimensions': [1440, 721],\n",
       "   'crs': 'EPSG:4326',\n",
       "   'crs_transform': [0.25, 0, -180, 0, -0.25, 90]},\n",
       "  {'id': 'surface_pressure',\n",
       "   'data_type': {'type': 'PixelType', 'precision': 'float'},\n",
       "   'dimensions': [1440, 721],\n",
       "   'crs': 'EPSG:4326',\n",
       "   'crs_transform': [0.25, 0, -180, 0, -0.25, 90]},\n",
       "  {'id': 'mean_sea_level_pressure',\n",
       "   'data_type': {'type': 'PixelType', 'precision': 'float'},\n",
       "   'dimensions': [1440, 721],\n",
       "   'crs': 'EPSG:4326',\n",
       "   'crs_transform': [0.25, 0, -180, 0, -0.25, 90]},\n",
       "  {'id': 'u_component_of_wind_10m',\n",
       "   'data_type': {'type': 'PixelType', 'precision': 'float'},\n",
       "   'dimensions': [1440, 721],\n",
       "   'crs': 'EPSG:4326',\n",
       "   'crs_transform': [0.25, 0, -180, 0, -0.25, 90]},\n",
       "  {'id': 'v_component_of_wind_10m',\n",
       "   'data_type': {'type': 'PixelType', 'precision': 'float'},\n",
       "   'dimensions': [1440, 721],\n",
       "   'crs': 'EPSG:4326',\n",
       "   'crs_transform': [0.25, 0, -180, 0, -0.25, 90]}],\n",
       " 'version': 1578581373737848,\n",
       " 'id': 'ECMWF/ERA5/MONTHLY/200001',\n",
       " 'properties': {'system:time_start': 946684800000,\n",
       "  'month': 1,\n",
       "  'year': 2000,\n",
       "  'system:footprint': {'type': 'LinearRing',\n",
       "   'coordinates': [[-180, -90],\n",
       "    [180, -90],\n",
       "    [180, 90],\n",
       "    [-180, 90],\n",
       "    [-180, -90]]},\n",
       "  'system:time_end': 949363200000,\n",
       "  'system:asset_size': 37702939,\n",
       "  'system:index': '200001'}}"
      ]
     },
     "execution_count": 13,
     "metadata": {},
     "output_type": "execute_result"
    }
   ],
   "source": [
    "img_test = ee.Image('ECMWF/ERA5/MONTHLY/200001')\n",
    "img_test.getInfo()"
   ]
  },
  {
   "cell_type": "markdown",
   "metadata": {},
   "source": [
    "#### Select one specific parameter"
   ]
  },
  {
   "cell_type": "markdown",
   "metadata": {},
   "source": [
    "Now, let's select the two layers `mean_2m_air_temperature` and `total_precipitation` and print again more information about the two images with the `getInfo()` command. \n",
    "\n",
    "The `getInfo()` command shows you the dimension and associated crs of the variable and additional properties."
   ]
  },
  {
   "cell_type": "code",
   "execution_count": 11,
   "metadata": {
    "scrolled": true
   },
   "outputs": [
    {
     "data": {
      "text/plain": [
       "{'type': 'Image',\n",
       " 'bands': [{'id': 'total_precipitation',\n",
       "   'data_type': {'type': 'PixelType', 'precision': 'float'},\n",
       "   'dimensions': [1440, 721],\n",
       "   'crs': 'EPSG:4326',\n",
       "   'crs_transform': [0.25, 0, -180, 0, -0.25, 90]}],\n",
       " 'version': 1578581373737848,\n",
       " 'id': 'ECMWF/ERA5/MONTHLY/200001',\n",
       " 'properties': {'system:time_start': 946684800000,\n",
       "  'month': 1,\n",
       "  'year': 2000,\n",
       "  'system:footprint': {'type': 'LinearRing',\n",
       "   'coordinates': [[-180, -90],\n",
       "    [180, -90],\n",
       "    [180, 90],\n",
       "    [-180, 90],\n",
       "    [-180, -90]]},\n",
       "  'system:time_end': 949363200000,\n",
       "  'system:asset_size': 37702939,\n",
       "  'system:index': '200001'}}"
      ]
     },
     "execution_count": 11,
     "metadata": {},
     "output_type": "execute_result"
    }
   ],
   "source": [
    "t2m = img_test.select('mean_2m_air_temperature')\n",
    "tp = img_test.select('total_precipitation')\n",
    "tp.getInfo()"
   ]
  },
  {
   "cell_type": "markdown",
   "metadata": {},
   "source": [
    "#### Get image url and apply visualization params to it"
   ]
  },
  {
   "cell_type": "markdown",
   "metadata": {},
   "source": [
    "The `geemap` package is based on `ipyleaflet` and brings you the functionalities of the EarthEngine Javascript editor to Python.\n",
    "You can create a `geemap` object that understand the EarthEngine commands to specify your map."
   ]
  },
  {
   "cell_type": "code",
   "execution_count": 12,
   "metadata": {},
   "outputs": [
    {
     "data": {
      "application/vnd.jupyter.widget-view+json": {
       "model_id": "91165fbeee4a47c48fe4545f41291d29",
       "version_major": 2,
       "version_minor": 0
      },
      "text/plain": [
       "Map(center=[40, -100], controls=(WidgetControl(options=['position'], widget=HBox(children=(ToggleButton(value=…"
      ]
     },
     "metadata": {},
     "output_type": "display_data"
    }
   ],
   "source": [
    "Map = geemap.Map(zoom=2,\n",
    "                layout={'height':'500px'})\n",
    "t2m_palette=['#000080','#0000D9','#4000FF','#8000FF','#0080FF','#00FFFF','#00FF80','#80FF00','#DAFF00','#FFFF00','#FFF500','#FFDA00','#FFB000','#FFA400','#FF4F00','#FF2500','#FF0A00','#FF00FF']\n",
    "Map.addLayer(t2m, {'min': 250, 'max': 330, 'palette':t2m_palette})\n",
    "Map"
   ]
  },
  {
   "cell_type": "markdown",
   "metadata": {},
   "source": [
    "<br>"
   ]
  },
  {
   "cell_type": "markdown",
   "metadata": {},
   "source": [
    "<a href=\"./04_aws_open_data_registry.ipynb\"><< 04 - AWS - Open Data Registry</a><span style=\"float:right;\"><a href=\"./11_covid19_case_study_s5p_anomaly_map.ipynb\">11 - Covid-19 case study - Sentinel-5P anomaly map>></a></span><br>\n",
    "<a href=\"./00_index.ipynb\"><< Index</a>"
   ]
  },
  {
   "cell_type": "markdown",
   "metadata": {},
   "source": [
    "<hr>\n",
    "&copy; 2020 | Julia Wagemann\n",
    "<a rel=\"license\" href=\"http://creativecommons.org/licenses/by/4.0/\"><img style=\"float: right\" alt=\"Creative Commons Lizenzvertrag\" style=\"border-width:0\" src=\"https://i.creativecommons.org/l/by/4.0/88x31.png\" /></a>"
   ]
  }
 ],
 "metadata": {
  "kernelspec": {
   "display_name": "Python 3",
   "language": "python",
   "name": "python3"
  },
  "language_info": {
   "codemirror_mode": {
    "name": "ipython",
    "version": 3
   },
   "file_extension": ".py",
   "mimetype": "text/x-python",
   "name": "python",
   "nbconvert_exporter": "python",
   "pygments_lexer": "ipython3",
   "version": "3.7.3"
  }
 },
 "nbformat": 4,
 "nbformat_minor": 2
}
