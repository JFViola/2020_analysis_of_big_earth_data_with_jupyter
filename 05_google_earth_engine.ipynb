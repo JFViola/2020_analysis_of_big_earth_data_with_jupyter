{
 "cells": [
  {
   "cell_type": "markdown",
   "metadata": {},
   "source": [
    "<img src='./img/opengeohub_logo.png' alt='OpenGeoHub Logo' align='right' width='15%'></img>"
   ]
  },
  {
   "cell_type": "markdown",
   "metadata": {},
   "source": [
    "<a href=\"./00_index.ipynb\"><< Index</a><br>\n",
    "<a href=\"./04_aws_open_data_registry.ipynb\"><< 04 - AWS - Open Data Registry</a><span style=\"float:right;\"><a href=\"./11_covid19_case_study_s5p_anomaly_map.ipynb\">11 - Covid-19 case study - Sentinel-5P anomaly map>></a></span>"
   ]
  },
  {
   "cell_type": "markdown",
   "metadata": {},
   "source": [
    "# Google Earth Engine"
   ]
  },
  {
   "cell_type": "markdown",
   "metadata": {},
   "source": [
    "### About"
   ]
  },
  {
   "cell_type": "markdown",
   "metadata": {},
   "source": [
    "<img src=\"./img/gee_logo_2.png\" align=\"right\" width=\"35%\"></img>\n",
    "[Google Earth Engine (GEE)](https://earthengine.google.com/) is a planetary-scale platform for Earth science data & analysis. \n",
    "\n",
    "There are several ways to work with the Google Earth Engine:\n",
    "* [Code Editor]( code.earthengine.google.com), a web-based IDE in Javascript\n",
    "* [Client libraries](https://github.com/google/earthengine-api) provide Javascript and Python wrapper functions for the Earth Engine API\n",
    "\n",
    "You have to [sign up](https://signup.earthengine.google.com/) for GEE."
   ]
  },
  {
   "cell_type": "markdown",
   "metadata": {},
   "source": [
    "### Data"
   ]
  },
  {
   "cell_type": "markdown",
   "metadata": {},
   "source": [
    "Earth Engine's data archive includes:\n",
    "* **Weather and Climate Data**\n",
    "    * A selection of ERA5 reanalysis\n",
    "      * [ECMWF/ERA5/DAILY](https://developers.google.com/earth-engine/datasets/catalog/ECMWF_ERA5_DAILY)\n",
    "      * [ECMWF/ERA5/MONTHLY](https://developers.google.com/earth-engine/datasets/catalog/ECMWF_ERA5_MONTHLY)\n",
    "    * TRMM precipitation\n",
    "* **Imagery**\n",
    "    * Landsat\n",
    "    * Sentinels, e.g\n",
    "      * [Sentinel-2](https://developers.google.com/earth-engine/datasets/catalog/COPERNICUS_S2_SR)\n",
    "      * [Sentinel-5P](https://developers.google.com/earth-engine/datasets/catalog/COPERNICUS_S5P_OFFL_L3_NO2)\n",
    "      * [Sentinel-3](https://developers.google.com/earth-engine/datasets/catalog/COPERNICUS_S3_OLCI)\n",
    "    * MODIS\n",
    "    \n",
    "... and many more. Have a look yourself at the [Earth Engine Data Catalog](https://developers.google.com/earth-engine/datasets/catalog/).\n",
    "\n",
    "In case you are interested in uploading your own data in Google Earth Engine, see here a [workflow](https://github.com/jwagemann/era5_in_gee) how to upload ERA5 data, using [manifest uploads](https://developers.google.com/earth-engine/image_manifest). "
   ]
  },
  {
   "cell_type": "markdown",
   "metadata": {},
   "source": [
    "### How to retrieve data?"
   ]
  },
  {
   "cell_type": "markdown",
   "metadata": {},
   "source": [
    "Required libraries:\n",
    "* [Earth Engine Python API](https://developers.google.com/earth-engine/python_install)\n",
    "* [ipyleaflet](https://ipyleaflet.readthedocs.io/en/latest/)"
   ]
  },
  {
   "cell_type": "markdown",
   "metadata": {},
   "source": [
    "<hr>"
   ]
  },
  {
   "cell_type": "markdown",
   "metadata": {},
   "source": [
    "#### Load required libraries"
   ]
  },
  {
   "cell_type": "code",
   "execution_count": 8,
   "metadata": {},
   "outputs": [],
   "source": [
    "import ee\n",
    "\n",
    "from ipyleaflet import Map, basemaps, basemap_to_tiles, FullScreenControl, Marker\n",
    "import ipyleaflet\n",
    "import ipywidgets\n",
    "import ipywidgets as widgets\n",
    "from IPython.display import display, clear_output"
   ]
  },
  {
   "cell_type": "code",
   "execution_count": 35,
   "metadata": {},
   "outputs": [],
   "source": []
  },
  {
   "cell_type": "code",
   "execution_count": 7,
   "metadata": {},
   "outputs": [],
   "source": [
    "# Initialize ee with access token\n",
    "ee.Initialize()"
   ]
  },
  {
   "cell_type": "markdown",
   "metadata": {},
   "source": [
    "Function below is taken from Tyler Erickson's [notebooks](https://github.com/tylere/EEUS2018-JupyterSession/blob/master/02%20-%20Interactive%20Maps.ipynb) for his Interactive Jupyter session at EEUS18."
   ]
  },
  {
   "cell_type": "code",
   "execution_count": 18,
   "metadata": {},
   "outputs": [],
   "source": [
    "def GetTileLayerUrl(ee_image_object):\n",
    "  map_id = ee.Image(ee_image_object).getMapId()\n",
    "  tile_url_template = \"https://earthengine.googleapis.com/map/{mapid}/{{z}}/{{x}}/{{y}}?token={token}\"\n",
    "  return tile_url_template.format(**map_id)"
   ]
  },
  {
   "cell_type": "markdown",
   "metadata": {},
   "source": [
    "#### Load an ERA5/MONTHLY image and get image information"
   ]
  },
  {
   "cell_type": "markdown",
   "metadata": {},
   "source": [
    "`ee.Image`"
   ]
  },
  {
   "cell_type": "code",
   "execution_count": 11,
   "metadata": {
    "scrolled": true
   },
   "outputs": [
    {
     "data": {
      "text/plain": [
       "{'type': 'Image',\n",
       " 'bands': [{'id': 'mean_2m_air_temperature',\n",
       "   'data_type': {'type': 'PixelType', 'precision': 'float'},\n",
       "   'dimensions': [1440, 721],\n",
       "   'crs': 'EPSG:4326',\n",
       "   'crs_transform': [0.25, 0, -180, 0, -0.25, 90]},\n",
       "  {'id': 'minimum_2m_air_temperature',\n",
       "   'data_type': {'type': 'PixelType', 'precision': 'float'},\n",
       "   'dimensions': [1440, 721],\n",
       "   'crs': 'EPSG:4326',\n",
       "   'crs_transform': [0.25, 0, -180, 0, -0.25, 90]},\n",
       "  {'id': 'maximum_2m_air_temperature',\n",
       "   'data_type': {'type': 'PixelType', 'precision': 'float'},\n",
       "   'dimensions': [1440, 721],\n",
       "   'crs': 'EPSG:4326',\n",
       "   'crs_transform': [0.25, 0, -180, 0, -0.25, 90]},\n",
       "  {'id': 'dewpoint_2m_temperature',\n",
       "   'data_type': {'type': 'PixelType', 'precision': 'float'},\n",
       "   'dimensions': [1440, 721],\n",
       "   'crs': 'EPSG:4326',\n",
       "   'crs_transform': [0.25, 0, -180, 0, -0.25, 90]},\n",
       "  {'id': 'total_precipitation',\n",
       "   'data_type': {'type': 'PixelType', 'precision': 'float'},\n",
       "   'dimensions': [1440, 721],\n",
       "   'crs': 'EPSG:4326',\n",
       "   'crs_transform': [0.25, 0, -180, 0, -0.25, 90]},\n",
       "  {'id': 'surface_pressure',\n",
       "   'data_type': {'type': 'PixelType', 'precision': 'float'},\n",
       "   'dimensions': [1440, 721],\n",
       "   'crs': 'EPSG:4326',\n",
       "   'crs_transform': [0.25, 0, -180, 0, -0.25, 90]},\n",
       "  {'id': 'mean_sea_level_pressure',\n",
       "   'data_type': {'type': 'PixelType', 'precision': 'float'},\n",
       "   'dimensions': [1440, 721],\n",
       "   'crs': 'EPSG:4326',\n",
       "   'crs_transform': [0.25, 0, -180, 0, -0.25, 90]},\n",
       "  {'id': 'u_component_of_wind_10m',\n",
       "   'data_type': {'type': 'PixelType', 'precision': 'float'},\n",
       "   'dimensions': [1440, 721],\n",
       "   'crs': 'EPSG:4326',\n",
       "   'crs_transform': [0.25, 0, -180, 0, -0.25, 90]},\n",
       "  {'id': 'v_component_of_wind_10m',\n",
       "   'data_type': {'type': 'PixelType', 'precision': 'float'},\n",
       "   'dimensions': [1440, 721],\n",
       "   'crs': 'EPSG:4326',\n",
       "   'crs_transform': [0.25, 0, -180, 0, -0.25, 90]}],\n",
       " 'version': 1578581373737848,\n",
       " 'id': 'ECMWF/ERA5/MONTHLY/200001',\n",
       " 'properties': {'system:time_start': 946684800000,\n",
       "  'month': 1,\n",
       "  'year': 2000,\n",
       "  'system:footprint': {'type': 'LinearRing',\n",
       "   'coordinates': [[-180, -90],\n",
       "    [180, -90],\n",
       "    [180, 90],\n",
       "    [-180, 90],\n",
       "    [-180, -90]]},\n",
       "  'system:time_end': 949363200000,\n",
       "  'system:asset_size': 37702939,\n",
       "  'system:index': '200001'}}"
      ]
     },
     "execution_count": 11,
     "metadata": {},
     "output_type": "execute_result"
    }
   ],
   "source": [
    "img_test = ee.Image('ECMWF/ERA5/MONTHLY/200001')\n",
    "img_test.getInfo()"
   ]
  },
  {
   "cell_type": "markdown",
   "metadata": {},
   "source": [
    "#### Select one specific parameter"
   ]
  },
  {
   "cell_type": "code",
   "execution_count": 16,
   "metadata": {
    "scrolled": true
   },
   "outputs": [
    {
     "name": "stdout",
     "output_type": "stream",
     "text": [
      "{'type': 'Image', 'bands': [{'id': 'total_precipitation', 'data_type': {'type': 'PixelType', 'precision': 'float'}, 'dimensions': [1440, 721], 'crs': 'EPSG:4326', 'crs_transform': [0.25, 0, -180, 0, -0.25, 90]}], 'version': 1578581373737848, 'id': 'ECMWF/ERA5/MONTHLY/200001', 'properties': {'system:time_start': 946684800000, 'month': 1, 'year': 2000, 'system:footprint': {'type': 'LinearRing', 'coordinates': [[-180, -90], [180, -90], [180, 90], [-180, 90], [-180, -90]]}, 'system:time_end': 949363200000, 'system:asset_size': 37702939, 'system:index': '200001'}}\n"
     ]
    }
   ],
   "source": [
    "t2m = img_test.select('mean_2m_air_temperature')\n",
    "tp = img_test.select('total_precipitation')\n",
    "print(tp.getInfo())"
   ]
  },
  {
   "cell_type": "markdown",
   "metadata": {},
   "source": [
    "#### Get image url for visualization"
   ]
  },
  {
   "cell_type": "code",
   "execution_count": 19,
   "metadata": {},
   "outputs": [],
   "source": [
    "t2m_url = GetTileLayerUrl(t2m)\n",
    "tp_url = GetTileLayerUrl(tp)"
   ]
  },
  {
   "cell_type": "code",
   "execution_count": 22,
   "metadata": {},
   "outputs": [
    {
     "data": {
      "text/plain": [
       "'https://earthengine.googleapis.com/map/projects/earthengine-legacy/maps/83d832a130d6629d256eb9b3ac11202e-b20f701514af99b1b18f832b1dee2418/{z}/{x}/{y}?token='"
      ]
     },
     "execution_count": 22,
     "metadata": {},
     "output_type": "execute_result"
    }
   ],
   "source": [
    "t2m_url"
   ]
  },
  {
   "cell_type": "code",
   "execution_count": 26,
   "metadata": {},
   "outputs": [
    {
     "data": {
      "application/vnd.jupyter.widget-view+json": {
       "model_id": "754b77c1506f42009560fca9b89b11ed",
       "version_major": 2,
       "version_minor": 0
      },
      "text/plain": [
       "Map(basemap={'url': 'https://{s}.tile.openstreetmap.org/{z}/{x}/{y}.png', 'max_zoom': 19, 'attribution': 'Map …"
      ]
     },
     "metadata": {},
     "output_type": "display_data"
    }
   ],
   "source": [
    "map1 = ipyleaflet.Map(\n",
    "    zoom=2,\n",
    "    layout={'height':'500px'},\n",
    ")\n",
    "\n",
    "map1.add_layer(ipyleaflet.TileLayer(url=t2m_url))\n",
    "#map1.add_layer(ipyleaflet.TileLayer(url=tp_url))\n",
    "\n",
    "# Adding some fance controls to the map, e.g. layers conrol, FullScreenControl\n",
    "map1.add_control(ipyleaflet.LayersControl())\n",
    "control = FullScreenControl()\n",
    "map1.add_control(control)\n",
    "\n",
    "map1"
   ]
  },
  {
   "cell_type": "markdown",
   "metadata": {},
   "source": [
    "#### Get image url and apply visualization params to it"
   ]
  },
  {
   "cell_type": "code",
   "execution_count": 27,
   "metadata": {},
   "outputs": [],
   "source": [
    "t2m_url = GetTileLayerUrl(t2m.visualize(min=250, max=310, palette=['#000080','#0000D9','#4000FF','#8000FF','#0080FF'\\\n",
    "                                                                   ,'#00FFFF','#00FF80','#80FF00','#DAFF00','#FFFF00','#FFF500','#FFDA00','#FFB000','#FFA400','#FF4F00','#FF2500','#FF0A00','#FF00FF']))\n",
    "tp_url = GetTileLayerUrl(tp.visualize(min=0, max=1, palette=['#FFFFFF', '#00FFFF', '#0080FF', '#DA00FF', '#FFA400','#FF0000']))"
   ]
  },
  {
   "cell_type": "code",
   "execution_count": 28,
   "metadata": {},
   "outputs": [
    {
     "data": {
      "application/vnd.jupyter.widget-view+json": {
       "model_id": "5165f7ded25a4a958c48684413f6bf0f",
       "version_major": 2,
       "version_minor": 0
      },
      "text/plain": [
       "Map(basemap={'url': 'https://{s}.tile.openstreetmap.org/{z}/{x}/{y}.png', 'max_zoom': 19, 'attribution': 'Map …"
      ]
     },
     "metadata": {},
     "output_type": "display_data"
    }
   ],
   "source": [
    "map2 = ipyleaflet.Map(\n",
    "    zoom=2,\n",
    "    layout={'height':'500px'},\n",
    ")\n",
    "\n",
    "map2.add_layer(ipyleaflet.TileLayer(url=t2m_url))\n",
    "#map2.add_layer(ipyleaflet.TileLayer(url=tp_url))\n",
    "\n",
    "# Adding the layers control to the map.\n",
    "map2.add_control(ipyleaflet.LayersControl())\n",
    "control = FullScreenControl()\n",
    "map2.add_control(control)\n",
    "\n",
    "map2"
   ]
  },
  {
   "cell_type": "markdown",
   "metadata": {},
   "source": [
    "<hr>"
   ]
  },
  {
   "cell_type": "markdown",
   "metadata": {},
   "source": [
    "<br>"
   ]
  },
  {
   "cell_type": "markdown",
   "metadata": {},
   "source": [
    "<a href=\"./04_aws_open_data_registry.ipynb\"><< 04 - AWS - Open Data Registry</a><span style=\"float:right;\"><a href=\"./11_covid19_case_study_s5p_anomaly_map.ipynb\">11 - Covid-19 case study - Sentinel-5P anomaly map>></a></span><br>\n",
    "<a href=\"./00_index.ipynb\"><< Index</a>"
   ]
  },
  {
   "cell_type": "markdown",
   "metadata": {},
   "source": [
    "<hr>\n",
    "&copy; 2020 | Julia Wagemann\n",
    "<a rel=\"license\" href=\"http://creativecommons.org/licenses/by/4.0/\"><img style=\"float: right\" alt=\"Creative Commons Lizenzvertrag\" style=\"border-width:0\" src=\"https://i.creativecommons.org/l/by/4.0/88x31.png\" /></a>"
   ]
  }
 ],
 "metadata": {
  "kernelspec": {
   "display_name": "Python 3",
   "language": "python",
   "name": "python3"
  },
  "language_info": {
   "codemirror_mode": {
    "name": "ipython",
    "version": 3
   },
   "file_extension": ".py",
   "mimetype": "text/x-python",
   "name": "python",
   "nbconvert_exporter": "python",
   "pygments_lexer": "ipython3",
   "version": "3.7.0"
  }
 },
 "nbformat": 4,
 "nbformat_minor": 2
}
