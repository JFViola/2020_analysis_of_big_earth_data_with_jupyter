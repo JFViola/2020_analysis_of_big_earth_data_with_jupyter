{
 "cells": [
  {
   "cell_type": "markdown",
   "metadata": {
    "Collapsed": "false"
   },
   "source": [
    "<img src='./img/opengeohub_logo.png' alt='Logo EU Copernicus EUMETSAT' align='right' width='20%'></img>"
   ]
  },
  {
   "cell_type": "markdown",
   "metadata": {
    "Collapsed": "false"
   },
   "source": [
    "# Functions"
   ]
  },
  {
   "cell_type": "markdown",
   "metadata": {},
   "source": [
    "This notebook lists all `functions` that are defined and used throughout the `course` of the OpenGeoHub Summer School 2020.\n",
    "The following functions are listed:\n",
    "\n",
    "**[Data loading and re-shaping functions](#load_reshape)**\n",
    "* [generate_geographical_subset](#generate_geographical_subset)\n",
    "* [df_subset](#df_subset)\n",
    "\n",
    "**[Data visualization functions](#visualization)**\n",
    "* [visualize_pcolormesh](#visualize_pcolormesh)\n"
   ]
  },
  {
   "cell_type": "markdown",
   "metadata": {},
   "source": [
    "<hr>"
   ]
  },
  {
   "cell_type": "markdown",
   "metadata": {},
   "source": [
    "#### Load required libraries"
   ]
  },
  {
   "cell_type": "code",
   "execution_count": 1,
   "metadata": {
    "Collapsed": "false"
   },
   "outputs": [],
   "source": [
    "import os\n",
    "from matplotlib import pyplot as plt\n",
    "\n",
    "import xarray as xr\n",
    "from netCDF4 import Dataset\n",
    "import numpy as np\n",
    "import glob\n",
    "\n",
    "from matplotlib import pyplot as plt\n",
    "import matplotlib.colors\n",
    "from matplotlib.colors import LogNorm\n",
    "import cartopy.crs as ccrs\n",
    "from cartopy.mpl.gridliner import LONGITUDE_FORMATTER, LATITUDE_FORMATTER\n",
    "import cartopy.feature as cfeature\n",
    "\n",
    "import warnings\n",
    "warnings.simplefilter(action = \"ignore\", category = RuntimeWarning)\n",
    "warnings.simplefilter(action = \"ignore\", category = FutureWarning)"
   ]
  },
  {
   "cell_type": "markdown",
   "metadata": {},
   "source": [
    "<hr>"
   ]
  },
  {
   "cell_type": "markdown",
   "metadata": {},
   "source": [
    "## <a id=\"load_reshape\"></a>Data loading and re-shaping functions"
   ]
  },
  {
   "cell_type": "markdown",
   "metadata": {
    "Collapsed": "false"
   },
   "source": [
    "### <a id='generate_geographical_subset'></a>`generate_geographical_subset`"
   ]
  },
  {
   "cell_type": "code",
   "execution_count": 1,
   "metadata": {
    "Collapsed": "false"
   },
   "outputs": [],
   "source": [
    "def generate_geographical_subset(xarray, latmin, latmax, lonmin, lonmax):\n",
    "    \"\"\" \n",
    "    Generates a geographical subset of a xarray DataArray and shifts the longitude grid from a 0-360 to a -180 to 180 deg grid.\n",
    "    \n",
    "    Parameters:\n",
    "        xarray (xarray DataArray): a xarray DataArray with latitude and longitude coordinates\n",
    "        latmin, latmax, lonmin, lonmax (int): boundaries of the geographical subset\n",
    "        \n",
    "    Returns:\n",
    "        Geographical subset of a xarray DataArray.\n",
    "    \"\"\"   \n",
    "    xarray = xarray.assign_coords(longitude=(((xarray.longitude + 180) % 360) - 180))\n",
    "    return xarray.where((xarray.latitude < latmax) & (xarray.latitude > latmin) & (xarray.longitude < lonmax) & (xarray.longitude > lonmin),drop=True)"
   ]
  },
  {
   "cell_type": "markdown",
   "metadata": {},
   "source": [
    "### <a id='df_subset'></a>`df_subset`"
   ]
  },
  {
   "cell_type": "code",
   "execution_count": null,
   "metadata": {},
   "outputs": [],
   "source": [
    "def df_subset(df,low_bound1, high_bound1, low_bound2, high_bound2):\n",
    "    return df[(df.index>low_bound1) & (df.index<high_bound1)], df[(df.index>low_bound2) & (df.index<high_bound2)]\n"
   ]
  },
  {
   "cell_type": "markdown",
   "metadata": {},
   "source": [
    "<hr>"
   ]
  },
  {
   "cell_type": "markdown",
   "metadata": {},
   "source": [
    "## <a id=\"visualization\"></a>Data visualization functions"
   ]
  },
  {
   "cell_type": "markdown",
   "metadata": {
    "Collapsed": "false"
   },
   "source": [
    "### <a id='visualize_pcolormesh'></a>`visualize_pcolormesh`"
   ]
  },
  {
   "cell_type": "code",
   "execution_count": 1,
   "metadata": {
    "Collapsed": "false"
   },
   "outputs": [],
   "source": [
    "def visualize_pcolormesh(data_array, longitude, latitude, projection, color_scale, unit, long_name, vmin, vmax, lonmin, lonmax, latmin, latmax, log=True, set_global=True):\n",
    "    \"\"\" \n",
    "    Visualizes a numpy array with matplotlib's 'pcolormesh' function.\n",
    "    \n",
    "    Parameters:\n",
    "        data_array: any numpy MaskedArray, e.g. loaded with the NetCDF library and the Dataset function\n",
    "        longitude: numpy Array holding longitude information\n",
    "        latitude: numpy Array holding latitude information\n",
    "        projection: a projection provided by the cartopy library, e.g. ccrs.PlateCarree()\n",
    "        color_scale (str): string taken from matplotlib's color ramp reference\n",
    "        unit (str): the unit of the parameter, taken from the NetCDF file if possible\n",
    "        long_name (str): long name of the parameter, taken from the NetCDF file if possible\n",
    "        vmin (int): minimum number on visualisation legend\n",
    "        vmax (int): maximum number on visualisation legend\n",
    "        lonmin,lonmax,latmin,latmax: geographic extent of the plot\n",
    "        log (logical): set True, if the values shall be represented in a logarithmic scale\n",
    "        set_global (logical): set True, if the plot shall have a global coverage\n",
    "    \"\"\"\n",
    "    fig=plt.figure(figsize=(20, 10))\n",
    "\n",
    "    ax = plt.axes(projection=projection)\n",
    "\n",
    "    # define the coordinate system that the grid lons and grid lats are on\n",
    "    if(log):\n",
    "        img = plt.pcolormesh(longitude, latitude, np.squeeze(data_array), norm=LogNorm(), \n",
    "                             cmap=plt.get_cmap(color_scale), transform=ccrs.PlateCarree(),\n",
    "                            vmin=vmin,\n",
    "                            vmax=vmax)\n",
    "    else:\n",
    "        img = plt.pcolormesh(longitude, latitude, data_array, \n",
    "                        cmap=plt.get_cmap(color_scale), transform=ccrs.PlateCarree(),\n",
    "                        vmin=vmin,\n",
    "                        vmax=vmax)\n",
    "\n",
    "    ax.add_feature(cfeature.BORDERS, edgecolor='black', linewidth=1)\n",
    "    ax.add_feature(cfeature.COASTLINE, edgecolor='black', linewidth=1)\n",
    "\n",
    "    if (projection==ccrs.PlateCarree()):\n",
    "        ax.set_extent([lonmin, lonmax, latmin, latmax], projection)\n",
    "        gl = ax.gridlines(draw_labels=True, linestyle='--')\n",
    "        gl.xlabels_top=False\n",
    "        gl.ylabels_right=False\n",
    "        gl.xformatter=LONGITUDE_FORMATTER\n",
    "        gl.yformatter=LATITUDE_FORMATTER\n",
    "        gl.xlabel_style={'size':14}\n",
    "        gl.ylabel_style={'size':14}\n",
    "\n",
    "    if(set_global):\n",
    "        ax.set_global()\n",
    "        ax.gridlines()\n",
    "\n",
    "    cbar = fig.colorbar(img, ax=ax, orientation='horizontal', fraction=0.04, pad=0.1)\n",
    "    cbar.set_label(unit, fontsize=16)\n",
    "    cbar.ax.tick_params(labelsize=14)\n",
    "    ax.set_title(long_name, fontsize=20, pad=20.0)\n",
    "\n",
    " #   plt.show()\n",
    "    return fig, ax"
   ]
  },
  {
   "cell_type": "markdown",
   "metadata": {
    "Collapsed": "false"
   },
   "source": [
    "<hr>\n",
    "&copy; 2020 | Julia Wagemann\n",
    "<a rel=\"license\" href=\"http://creativecommons.org/licenses/by/4.0/\"><img style=\"float: right\" alt=\"Creative Commons Lizenzvertrag\" style=\"border-width:0\" src=\"https://i.creativecommons.org/l/by/4.0/88x31.png\" /></a>"
   ]
  }
 ],
 "metadata": {
  "kernelspec": {
   "display_name": "Python 3",
   "language": "python",
   "name": "python3"
  },
  "language_info": {
   "codemirror_mode": {
    "name": "ipython",
    "version": 3
   },
   "file_extension": ".py",
   "mimetype": "text/x-python",
   "name": "python",
   "nbconvert_exporter": "python",
   "pygments_lexer": "ipython3",
   "version": "3.7.3"
  },
  "toc-autonumbering": false,
  "toc-showcode": false,
  "toc-showmarkdowntxt": true
 },
 "nbformat": 4,
 "nbformat_minor": 4
}
