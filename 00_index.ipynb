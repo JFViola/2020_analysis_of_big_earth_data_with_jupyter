{
 "cells": [
  {
   "cell_type": "markdown",
   "metadata": {
    "Collapsed": "false"
   },
   "source": [
    "<br>"
   ]
  },
  {
   "cell_type": "markdown",
   "metadata": {
    "Collapsed": "false"
   },
   "source": [
    "# Analysis of Big Earth Data with Jupyter Notebooks"
   ]
  },
  {
   "cell_type": "markdown",
   "metadata": {},
   "source": [
    "<img src='./img/opengeohub_logo.png' alt='OpenGeoHub Logo' align='right' width='25%'></img>\n",
    "Lecture given for OpenGeoHub summer school 2020<br>\n",
    "Tuesday, 18. August 2020 | 11:00-13:00 CEST \n",
    "\n",
    "#### Lecturer\n",
    "* [Julia Wagemann](https://jwagemann.com) | Independent consultant and Phd student at University of Marburg\n",
    "\n",
    "#### Access to tutorial material\n",
    "Notebooks are available on [GitHub](https://github.com/jwagemann/2020_analysis_of_big_earth_data_with_jupyter).\n",
    "\n",
    "#### Feedback"
   ]
  },
  {
   "cell_type": "markdown",
   "metadata": {},
   "source": [
    "<hr>"
   ]
  },
  {
   "cell_type": "markdown",
   "metadata": {},
   "source": [
    "### Access to the JupyterHub"
   ]
  },
  {
   "cell_type": "markdown",
   "metadata": {},
   "source": [
    "You can access the lecture material on a JupyterHub instance, a pre-defined environment that gives you direct access to the data and Python packages required for following the lecture."
   ]
  },
  {
   "cell_type": "markdown",
   "metadata": {},
   "source": [
    "<div class=\"alert alert-block alert-success\" align=\"left\">\n",
    "1. Web address: <a href='https://ltpy.adamplatform.eu'>https://ltpy.adamplatform.eu</a><br>\n",
    "2. Create an account: <a href='https://wekeo-login.services.meeo.it'>https://wekeo-login.services.meeo.it</a><br>\n",
    "3. Log into the <b>JupyterHub</b> with your account created. \n",
    "</div>"
   ]
  },
  {
   "cell_type": "markdown",
   "metadata": {},
   "source": [
    "<hr>"
   ]
  },
  {
   "cell_type": "markdown",
   "metadata": {},
   "source": [
    "## What is this lecture about?"
   ]
  },
  {
   "cell_type": "markdown",
   "metadata": {},
   "source": [
    "Growing volumes of `Big Earth Data` force us to change the way how we access and process large volumes of geospatial data. New (cloud-based) data systems are being developed, each offering different functionalities for users.\n",
    "\n",
    "This lecture is split in two parts: \n",
    "* **(Cloud-based) data access systems**<br>\n",
    "This part will highlight five data access systems that allow you to access, download or process large volumes of Copernicus data related to climate and atmosphere. For each data system, an example is given how data can be retrieved.\n",
    "Data access systems that will be covered:\n",
    "  * [Copernicus Climate Data Store (CDS)](https://cds.climate.copernicus.eu/) / [Copernicus Atmosphere Data Store (ADS)](https://ads.atmosphere.copernicus.eu/)\n",
    "  * [WEkEO - Copernicus Data and Information Access System](http://wekeo.eu/)\n",
    "  * [Open Data Registry on Amazon Web Services](http://registry.opendata.aws)\n",
    "  * [Google Earth Engine](https://code.earthengine.google.com/)\n",
    "\n",
    "\n",
    "* **Case study: Analysis of Covid-19 with Sentinel-5P data**<br>\n",
    "This example showcases a case study analysing daily Sentinel-5P data from 2019 and 2020 with Jupyter notebooks and the Python library [xarray](http://xarray.pydata.org/en/stable/) in order to analyse possible Covid-19 impacts in 2020.\n"
   ]
  },
  {
   "cell_type": "markdown",
   "metadata": {},
   "source": [
    "## Lecture outline"
   ]
  },
  {
   "cell_type": "markdown",
   "metadata": {},
   "source": [
    "This lecture has the following outline:\n",
    "\n",
    "* [01 - Introduction to Project Jupyter (optional)](01_Intro_to_Python_and_Jupyter.ipynb)\n",
    "* [03 - WEkEO - Copernicus Data and Information Access Service (DIAS)](03_WEKEO_dias_service.ipynb)\n",
    "* [04 - Amazon Web Services Open Data Registry](04_aws_open_data_registry.ipynb)\n",
    "* [05 - Google Earth Engine](05_google_earth_engine.ipynb)\n",
    "\n",
    "\n",
    "* [11 - Covid-19 case study - Sentinel-5P anomaly map](11_covid19_case_study_s5p_anomaly_map.ipynb)\n",
    "* [12 - Covid-19 case study - Sentinel-5P time-series analysis](12_covid19_case_study_s5p_time_series_analysis.ipynb)"
   ]
  },
  {
   "cell_type": "markdown",
   "metadata": {},
   "source": [
    "## Additional resources"
   ]
  },
  {
   "cell_type": "code",
   "execution_count": null,
   "metadata": {},
   "outputs": [],
   "source": []
  },
  {
   "cell_type": "markdown",
   "metadata": {},
   "source": [
    "<br>"
   ]
  },
  {
   "cell_type": "markdown",
   "metadata": {
    "Collapsed": "false"
   },
   "source": [
    "<hr>\n",
    "&copy; 2020 | Julia Wagemann\n",
    "<a rel=\"license\" href=\"http://creativecommons.org/licenses/by/4.0/\"><img style=\"float: right\" alt=\"Creative Commons Lizenzvertrag\" style=\"border-width:0\" src=\"https://i.creativecommons.org/l/by/4.0/88x31.png\" /></a>"
   ]
  }
 ],
 "metadata": {
  "kernelspec": {
   "display_name": "Python 3",
   "language": "python",
   "name": "python3"
  },
  "language_info": {
   "codemirror_mode": {
    "name": "ipython",
    "version": 3
   },
   "file_extension": ".py",
   "mimetype": "text/x-python",
   "name": "python",
   "nbconvert_exporter": "python",
   "pygments_lexer": "ipython3",
   "version": "3.7.0"
  }
 },
 "nbformat": 4,
 "nbformat_minor": 4
}
