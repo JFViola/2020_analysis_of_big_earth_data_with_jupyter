{
 "cells": [
  {
   "cell_type": "markdown",
   "metadata": {},
   "source": [
    "<img src='./img/opengeohub_logo.png' alt='OpenGeoHub Logo' align='right' width='15%'></img>"
   ]
  },
  {
   "cell_type": "markdown",
   "metadata": {},
   "source": [
    "<a href=\"./00_index.ipynb\"><< Index</a><br>\n",
    "<a href=\"./01_Intro_to_Python_and_Jupyter.ipynb\"><< 01 - Intro to Project Jupyter</a><span style=\"float:right;\"><a href=\"./03_WEkEO_dias_service.ipynb\">03 - WEkEO - Copernicus Data Information and Access Service>></a></span>"
   ]
  },
  {
   "cell_type": "markdown",
   "metadata": {},
   "source": [
    "# Copernicus Climate Data Store / Copernicus Atmosphere Data Store"
   ]
  },
  {
   "cell_type": "markdown",
   "metadata": {},
   "source": [
    "### About"
   ]
  },
  {
   "cell_type": "markdown",
   "metadata": {},
   "source": [
    "#### Copernicus Climate Data Store"
   ]
  },
  {
   "cell_type": "markdown",
   "metadata": {},
   "source": [
    "<img src=\"./img/cds_logo.jpg\" align=\"right\" width=\"30%\"></img>The [Copernicus Climate Data Store (CDS)](cds.copernicus.eu) is a one-stop shop for information about the climate: past, present and future. It is operated by the [European Centre for Medium-Range Weather Forecasts(ECMWF)](https://ecmwf.int) on behalf of the European Commission.\n",
    "\n",
    "It consists of two parts:\n",
    "* Access to Climate Datasets via a [web interface](https://cds.climate.copernicus.eu/cdsapp#!/search?type=dataset) or programmatically via the [Climate Data Store API](https://cds.climate.copernicus.eu/api-how-to)\n",
    "* Analyse and visualise climate data with the [Climate Data Store toolbox (Python interface)](https://cds.climate.copernicus.eu/user/login?destination=/toolbox-user)\n",
    "\n",
    "Data are natively available in GRIB and NetCDF."
   ]
  },
  {
   "cell_type": "markdown",
   "metadata": {},
   "source": [
    "#### Copernicus Atmosphere Data Store (ADS) "
   ]
  },
  {
   "cell_type": "markdown",
   "metadata": {},
   "source": [
    "<span style=float:left><img src='./img/cams_logo_2.png' alt='Copernicus Atmosphere Monitoring Service' align='left' width='95%'></img></span>\n",
    "\n",
    "[The Copernicus Atmosphere Monitoring Service (CAMS)](https://atmosphere.copernicus.eu/) provides consistent and quality-controlled information related to `air pollution and health`, `solar energy`, `greenhouse gases` and `climate forcing`, everywhere in the world.\n",
    "\n",
    "CAMS is one of six services that form [Copernicus, the European Union's Earth observation programme](https://www.copernicus.eu/en).\n",
    "\n",
    "CAMS is implemented by the [European Centre for Medium-Range Weather Forecasts (ECMWF)](http://ecmwf.int/) on behalf of the European Commission. \n",
    "\n",
    "The [Atmosphere Data Store](https://ads.atmosphere.copernicus.eu/#!/home) is a one-stop shop for past, present and future air quality data. The ADS has just recently released and offers for now a subset of the entire wealth of CAMS data."
   ]
  },
  {
   "cell_type": "markdown",
   "metadata": {},
   "source": [
    "### Data"
   ]
  },
  {
   "cell_type": "markdown",
   "metadata": {},
   "source": [
    "#### Copernicus Climate Data Store"
   ]
  },
  {
   "cell_type": "markdown",
   "metadata": {},
   "source": [
    "The climate data store has a wide variety of climate data, e.g.:\n",
    "* **ERA5 climate reanalysis**\n",
    "* **Seasonal forecasts**\n",
    "* **Fire indices**\n",
    "* **River dischare information**\n",
    "\n",
    "Have a look and browse through [all the publicly available datasets on the CDS](https://cds.climate.copernicus.eu/cdsapp#!/search?type=dataset). "
   ]
  },
  {
   "cell_type": "markdown",
   "metadata": {},
   "source": [
    "#### Copernicus Atmosphere Monitoring Service"
   ]
  },
  {
   "cell_type": "markdown",
   "metadata": {},
   "source": [
    "CAMS offers four different data product types:\n",
    "\n",
    "|<font size='+0.2'><center>[CAMS Global <br>Reanalysis](#cams_reanalysis)</center></font></img> | <font size='+0.2'><center>[CAMS Global Analyses <br>and Forecasts](#cams_an_fc)</center></font> | <img width=30><font size='+0.2'><center>[CAMS Global Fire Assimilation System (GFAS)](#cams_gfas)</center></font></img> | <img width=30><font size='+0.2'><center>[CAMS Greenhouse Gases Flux Inversions](#cams_greenhouse_flux)</center></font></img> |\n",
    "|-----|-----|------|------|\n",
    "<img src='./img/cams_reanalysis.png' alt='CAMS reanalysis' align='middle' width='100%'></img>|<img src='./img/cams_forecast.png' alt='CAMS Forecast' align='middle' width='100%'></img>|<img src='./img/cams_gfas.png' alt='CAMS GFAS' align='middle' width='100%'></img>|<img src='./img/cams_greenhouse_fluxes.png' alt='CAMS greenhous flux inversions' align='middle' width='100%'></img>|\n"
   ]
  },
  {
   "cell_type": "markdown",
   "metadata": {},
   "source": [
    "So far the Atmosphere Data Store offers access to the following data sets:\n",
    "- [CAMS Global reanalysis (EAC4)](https://ads.atmosphere.copernicus.eu/cdsapp#!/dataset/cams-global-reanalysis-eac4?tab=overview)\n",
    "- [CAMS global inversion-optimised greenhouse gas fluxes and concentrations](https://ads.atmosphere.copernicus.eu/cdsapp#!/dataset/cams-global-greenhouse-gas-inversion)\n",
    "- [CAMS European air quality forecasts](https://ads.atmosphere.copernicus.eu/cdsapp#!/dataset/cams-europe-air-quality-forecasts?tab=overview)\n",
    "- [CAMS solar-radiation time-series](https://ads.atmosphere.copernicus.eu/cdsapp#!/dataset/cams-solar-radiation-timeseries?tab=overview)"
   ]
  },
  {
   "cell_type": "markdown",
   "metadata": {},
   "source": [
    "### How to retrieve data?"
   ]
  },
  {
   "cell_type": "markdown",
   "metadata": {},
   "source": [
    "Data from the `Copernicus Climate Data Store` and the `Copernicus Atmosphere Data Store` can be accessed programmtically via the [cdsapi](https://pypi.org/project/cdsapi/) Python library.\n",
    "\n",
    "To install the [cdsapi](https://pypi.org/project/cdsapi/) follow this [how-to guide](https://cds.climate.copernicus.eu/api-how-to).\n",
    "\n",
    "It includes the following steps:\n",
    "#### 1. Install the CDS API key\n",
    "  * [Self-register](https://cds.climate.copernicus.eu/#!/home) at the CDS registration page\n",
    "  * [Login](https://cds.climate.copernicus.eu/user/login) to the CDS or ADS portal and go to the [api-how-to page](https://cds.climate.copernicus.eu/api-how-to)\n",
    "  * Copy the CDS API key displayed in a file under `$HOME/.cdsapirc` *(Unix / Linux environment)*\n",
    "  \n",
    " "
   ]
  },
  {
   "cell_type": "code",
   "execution_count": null,
   "metadata": {},
   "outputs": [],
   "source": [
    "%%writefile /home/jovyan/.cdsapirc\n",
    "\n",
    "url: #####\n",
    "key: #####"
   ]
  },
  {
   "cell_type": "markdown",
   "metadata": {},
   "source": [
    "#### 2. Install the CDS API client"
   ]
  },
  {
   "cell_type": "markdown",
   "metadata": {},
   "source": [
    "`pip install cdsapi`"
   ]
  },
  {
   "cell_type": "markdown",
   "metadata": {},
   "source": [
    "#### 3. Use the CDS API client for data access?"
   ]
  },
  {
   "cell_type": "markdown",
   "metadata": {},
   "source": [
    "Below, you see the principle of a `data retrieval` request. You can use the [web interface](https://cds.climate.copernicus.eu/cdsapp#!/search?type=dataset) to browse through the datasets. Under `Download data`, at the end, there is the option to generate the `API request`.\n",
    "\n",
    "**NOTE**: per default, ECMWF data is stored on a grid with longitudes going from 0 to 360 degrees. It can be reprojected to a regular geographic latitude-longitude grid, by setting the keyword argument `area` and `grid`. Per default, data is retrieved in `GRIB`. If you wish to retrieve the data in `netCDF`, you have to specify it by using the keyword argument `format`.\n",
    "\n",
    "Below, it is the example request for `2m air temperature of ERA-5 on single levels for 1 January 2019 at 12:00 UTC` in `netCDF` format."
   ]
  },
  {
   "cell_type": "code",
   "execution_count": null,
   "metadata": {},
   "outputs": [],
   "source": [
    "import cdsapi"
   ]
  },
  {
   "cell_type": "code",
   "execution_count": null,
   "metadata": {
    "scrolled": true
   },
   "outputs": [],
   "source": [
    "#!/usr/bin/env python\n",
    "c = cdsapi.Client()\n",
    "\n",
    "def retrieve_func():\n",
    "    data = c.retrieve(\n",
    "    'reanalysis-era5-single-levels',\n",
    "    {\n",
    "        'product_type':'reanalysis',\n",
    "        'format':'netcdf',\n",
    "        'variable':'2m_temperature',\n",
    "        'year':'2019',\n",
    "        'month':'01',\n",
    "        'day':'01',\n",
    "        'time':'12:00',\n",
    "        # Natively ERA5 data are on a 0-360 longitude grid\n",
    "        'area':'90/-180/-90/179.75'\n",
    "    },\n",
    "    './download.nc')\n",
    "    return data\n",
    "\n",
    "retrieve_func()"
   ]
  },
  {
   "cell_type": "markdown",
   "metadata": {},
   "source": [
    "### Example to open a NetCDF file with xarray"
   ]
  },
  {
   "cell_type": "markdown",
   "metadata": {},
   "source": [
    "Useful Python libraries to open NetCDF / GRIB files:\n",
    "* [xarray](http://xarray.pydata.org/en/stable/) - Natively supports NetCDF\n",
    "* [cfgrib](https://github.com/ecmwf/cfgrib) - A Python interface that supports GRIB engine for the xarray library\n",
    "* [netCDF4](http://unidata.github.io/netcdf4-python/netCDF4/index.html) - A Python interface to the netCDF4 C library"
   ]
  },
  {
   "cell_type": "code",
   "execution_count": null,
   "metadata": {},
   "outputs": [],
   "source": [
    "import xarray as xr"
   ]
  },
  {
   "cell_type": "markdown",
   "metadata": {},
   "source": [
    "With `xr.open_dataset()`, you can easily open a `netCDF` file as an `xarray.Dataset`. "
   ]
  },
  {
   "cell_type": "code",
   "execution_count": null,
   "metadata": {},
   "outputs": [],
   "source": [
    "test = xr.open_dataset('download.nc')\n",
    "test"
   ]
  },
  {
   "cell_type": "markdown",
   "metadata": {},
   "source": [
    "### Good news for R users"
   ]
  },
  {
   "cell_type": "markdown",
   "metadata": {},
   "source": [
    "Koen Huefkens and Reto Stauffer just released the CRAN package [ecmwfr](https://cran.r-project.org/web/packages/ecmwfr/index.html), which is a programmatic interface to public data at ECMWF and on the CDS.\n",
    "\n",
    "* [ecmwfr](https://cran.r-project.org/web/packages/ecmwfr/index.html)"
   ]
  },
  {
   "cell_type": "markdown",
   "metadata": {},
   "source": [
    "<hr>"
   ]
  },
  {
   "cell_type": "markdown",
   "metadata": {},
   "source": [
    "<a href=\"./01_Intro_to_Python_and_Jupyter.ipynb\"><< 01 - Intro to Project Jupyter</a><span style=\"float:right;\"><a href=\"./03_WEkEO_dias_service.ipynb\">03 - WEkEO - Copernicus Data Information and Access Service>></a></span><br>\n",
    "<a href=\"./00_index.ipynb\"><< Index</a>"
   ]
  },
  {
   "cell_type": "markdown",
   "metadata": {},
   "source": [
    "<hr>\n",
    "&copy; 2020 | Julia Wagemann\n",
    "<a rel=\"license\" href=\"http://creativecommons.org/licenses/by/4.0/\"><img style=\"float: right\" alt=\"Creative Commons Lizenzvertrag\" style=\"border-width:0\" src=\"https://i.creativecommons.org/l/by/4.0/88x31.png\" /></a>"
   ]
  }
 ],
 "metadata": {
  "kernelspec": {
   "display_name": "Python 3",
   "language": "python",
   "name": "python3"
  },
  "language_info": {
   "codemirror_mode": {
    "name": "ipython",
    "version": 3
   },
   "file_extension": ".py",
   "mimetype": "text/x-python",
   "name": "python",
   "nbconvert_exporter": "python",
   "pygments_lexer": "ipython3",
   "version": "3.7.3"
  }
 },
 "nbformat": 4,
 "nbformat_minor": 2
}
